{
 "cells": [
  {
   "cell_type": "markdown",
   "metadata": {},
   "source": [
    "# K-nearest neighbors"
   ]
  },
  {
   "cell_type": "markdown",
   "metadata": {},
   "source": [
    "KNN là một trong những thuật toán học có giám sát đơn giản nhất trong Machine Learning. \n",
    "\n",
    "Khi training, thuật toán này không học bất cứ một điều gì từ tập dự liệu, vậy nên thuật toán này được xếp vào loại **Lazy Learning**.\n",
    "\n",
    "KNN có thể giải quyết 2 bài toán học có giám sát:\n",
    "- Classification \n",
    "- Regressing \n",
    "\n",
    "Với KNN, trong bài toán Classification, label của một điểm dữ liệu mới được suy ra trực tiếp từ K điểm dữ liệu gần nhất trong tập dữ liệu. \n",
    "\n",
    "Trong bài toán Regression, đầu ra của một điểm dữ liệu là trung bình có trọng số của đầu ra những điểm gần nhất\n",
    "\n"
   ]
  },
  {
   "cell_type": "markdown",
   "metadata": {},
   "source": [
    "(Note) Nên dùng nhiều hàng xóm thay vì 1, những cũng nên dùng quá nhiều\n",
    "\n",
    "? Tại sao lại không nên dùng 1 hàng xóm - Vì có thể xảy ra trường hợp lấy lỗi, nhiều, dẫn đến đưa ra kết quả sai\n",
    "\n",
    "? Tại sao không nên lấy quá nhiều hàng xóm - Vì điều này có thể dẫn đến phá vở cấu trúc bề mặt chứa dữ liệu (có thể dễ nhậ ra trong bài toán hồi quy, khi kết quả được tính bằng việc lấy trung bình trọng số)\n"
   ]
  },
  {
   "cell_type": "markdown",
   "metadata": {},
   "source": [
    "### Code"
   ]
  },
  {
   "cell_type": "code",
   "execution_count": 1,
   "metadata": {},
   "outputs": [],
   "source": [
    "import numpy as np \n",
    "import matplotlib.pyplot as plt \n",
    "from sklearn import neighbors, datasets"
   ]
  },
  {
   "cell_type": "code",
   "execution_count": 2,
   "metadata": {},
   "outputs": [
    {
     "name": "stdout",
     "output_type": "stream",
     "text": [
      "\n",
      "Samples from class 0:\n",
      " [[5.1 3.5 1.4 0.2]\n",
      " [4.9 3.  1.4 0.2]\n",
      " [4.7 3.2 1.3 0.2]\n",
      " [4.6 3.1 1.5 0.2]\n",
      " [5.  3.6 1.4 0.2]]\n",
      "\n",
      "Samples from class 1:\n",
      " [[7.  3.2 4.7 1.4]\n",
      " [6.4 3.2 4.5 1.5]\n",
      " [6.9 3.1 4.9 1.5]\n",
      " [5.5 2.3 4.  1.3]\n",
      " [6.5 2.8 4.6 1.5]]\n",
      "\n",
      "Samples from class 2:\n",
      " [[6.3 3.3 6.  2.5]\n",
      " [5.8 2.7 5.1 1.9]\n",
      " [7.1 3.  5.9 2.1]\n",
      " [6.3 2.9 5.6 1.8]\n",
      " [6.5 3.  5.8 2.2]]\n"
     ]
    }
   ],
   "source": [
    "iris = datasets.load_iris()\n",
    "\n",
    "iris_X = iris.data\n",
    "iris_y = iris.target \n",
    "\n",
    "X0 = iris_X[iris_y == 0 ] \n",
    "X1 = iris_X[iris_y == 1 ] \n",
    "X2 = iris_X[iris_y == 2 ] \n",
    "\n",
    "print('\\nSamples from class 0:\\n', X0[:5])\n",
    "\n",
    "print('\\nSamples from class 1:\\n', X1[:5])\n",
    "\n",
    "print('\\nSamples from class 2:\\n', X2[:5])"
   ]
  },
  {
   "cell_type": "code",
   "execution_count": 3,
   "metadata": {},
   "outputs": [
    {
     "name": "stdout",
     "output_type": "stream",
     "text": [
      "Training size: 105\n",
      "Test size    : 45\n"
     ]
    }
   ],
   "source": [
    "from sklearn.model_selection import train_test_split \n",
    "\n",
    "X_train, X_test, y_train, y_test = train_test_split(\n",
    "    iris_X, iris_y, test_size=0.3, random_state=42\n",
    ")\n",
    "\n",
    "print (\"Training size: %d\" %len(y_train))\n",
    "print (\"Test size    : %d\" %len(y_test))"
   ]
  },
  {
   "cell_type": "code",
   "execution_count": 4,
   "metadata": {},
   "outputs": [
    {
     "name": "stdout",
     "output_type": "stream",
     "text": [
      "Thực tế: 1, Dự đoán: 1\n",
      "Thực tế: 0, Dự đoán: 0\n",
      "Thực tế: 2, Dự đoán: 2\n",
      "Thực tế: 1, Dự đoán: 1\n",
      "Thực tế: 1, Dự đoán: 1\n",
      "Thực tế: 0, Dự đoán: 0\n",
      "Thực tế: 1, Dự đoán: 1\n",
      "Thực tế: 2, Dự đoán: 2\n",
      "Thực tế: 1, Dự đoán: 1\n",
      "Thực tế: 1, Dự đoán: 1\n",
      "Thực tế: 2, Dự đoán: 2\n",
      "Thực tế: 0, Dự đoán: 0\n",
      "Thực tế: 0, Dự đoán: 0\n",
      "Thực tế: 0, Dự đoán: 0\n",
      "Thực tế: 0, Dự đoán: 0\n",
      "Thực tế: 1, Dự đoán: 1\n",
      "Thực tế: 2, Dự đoán: 2\n",
      "Thực tế: 1, Dự đoán: 1\n",
      "Thực tế: 1, Dự đoán: 1\n",
      "Thực tế: 2, Dự đoán: 2\n",
      "Thực tế: 0, Dự đoán: 0\n",
      "Thực tế: 2, Dự đoán: 2\n",
      "Thực tế: 0, Dự đoán: 0\n",
      "Thực tế: 2, Dự đoán: 2\n",
      "Thực tế: 2, Dự đoán: 2\n",
      "Thực tế: 2, Dự đoán: 2\n",
      "Thực tế: 2, Dự đoán: 2\n",
      "Thực tế: 2, Dự đoán: 2\n",
      "Thực tế: 0, Dự đoán: 0\n",
      "Thực tế: 0, Dự đoán: 0\n",
      "Thực tế: 0, Dự đoán: 0\n",
      "Thực tế: 0, Dự đoán: 0\n",
      "Thực tế: 1, Dự đoán: 1\n",
      "Thực tế: 0, Dự đoán: 0\n",
      "Thực tế: 0, Dự đoán: 0\n",
      "Thực tế: 2, Dự đoán: 2\n",
      "Thực tế: 1, Dự đoán: 1\n",
      "Thực tế: 0, Dự đoán: 0\n",
      "Thực tế: 0, Dự đoán: 0\n",
      "Thực tế: 0, Dự đoán: 0\n",
      "Thực tế: 2, Dự đoán: 2\n",
      "Thực tế: 1, Dự đoán: 1\n",
      "Thực tế: 1, Dự đoán: 1\n",
      "Thực tế: 0, Dự đoán: 0\n",
      "Thực tế: 0, Dự đoán: 0\n"
     ]
    }
   ],
   "source": [
    "model = neighbors.KNeighborsClassifier(n_neighbors=10,p=2) \n",
    "model.fit(X_train,y_train) \n",
    "y_pred = model.predict(X_test) \n",
    "\n",
    "for true_label, pred_label in zip(y_test, y_pred):\n",
    "    print(f\"Thực tế: {true_label}, Dự đoán: {pred_label}\")"
   ]
  },
  {
   "cell_type": "markdown",
   "metadata": {},
   "source": [
    "**Phương pháp đánh giá** \n",
    "\n",
    "Để đánh giá độ chính xác của thuật toán KNN Classifier, xem có bao nhiêu điểm trong test data được dự đoán đúng, chia cho tổng số lượng trong tập test ra độ chính xác"
   ]
  },
  {
   "cell_type": "code",
   "execution_count": 5,
   "metadata": {},
   "outputs": [
    {
     "name": "stdout",
     "output_type": "stream",
     "text": [
      "Accuracy of 10NN (customized weights): 100.00 %\n"
     ]
    }
   ],
   "source": [
    "from sklearn.metrics import accuracy_score \n",
    "\n",
    "print (\"Accuracy of 10NN (customized weights): %.2f %%\" %(100*accuracy_score(y_test, y_pred)))"
   ]
  },
  {
   "cell_type": "markdown",
   "metadata": {},
   "source": [
    "**Đánh trọng số cho các điểm lân cận**\n",
    "\n",
    "Trong kỹ thuật major voting bên trên, mỗi trong 10 điểm gần nhất được coi là có vai trò như nhau và giá trị lá phiếu của mỗi điểm này là như nhau. Như thế là không công bằng, vì rõ ràng rằng những điểm gần hơn nên có trọng số cao hơn (càng thân cận thì càng tin tưởng). \n",
    "\n",
    "Vậy nên sẽ đánh trọng số khác nhau cho mỗi trong 10 điểm gần nhất này. Cách đánh trọng số phải thoải mãn điều kiện là một điểm càng gần điểm test data thì phải được đánh trọng số càng cao (tin tưởng hơn). \n",
    "\n",
    "Cách đơn giản nhất là lấy nghịch đảo của khoảng cách này. (Trong trường hợp test data trùng với 1 điểm dữ liệu trong training data, tức khoảng cách bằng 0, ta lấy luôn label của điểm training data).\n",
    "\n",
    "Scikit-learn giúp đơn giản hóa việc này bằng cách gán giá trị weights = 'distance'. (Giá trị mặc định của weights là 'uniform', tương ứng với việc coi tất cả các điểm lân cận có giá trị như nhau như ở trên).\n",
    "\n",
    "\n"
   ]
  },
  {
   "cell_type": "code",
   "execution_count": 6,
   "metadata": {},
   "outputs": [
    {
     "name": "stdout",
     "output_type": "stream",
     "text": [
      "Thực tế: 1, Dự đoán: 1\n",
      "Thực tế: 0, Dự đoán: 0\n",
      "Thực tế: 2, Dự đoán: 2\n",
      "Thực tế: 1, Dự đoán: 1\n",
      "Thực tế: 1, Dự đoán: 1\n",
      "Thực tế: 0, Dự đoán: 0\n",
      "Thực tế: 1, Dự đoán: 1\n",
      "Thực tế: 2, Dự đoán: 2\n",
      "Thực tế: 1, Dự đoán: 1\n",
      "Thực tế: 1, Dự đoán: 1\n",
      "Thực tế: 2, Dự đoán: 2\n",
      "Thực tế: 0, Dự đoán: 0\n",
      "Thực tế: 0, Dự đoán: 0\n",
      "Thực tế: 0, Dự đoán: 0\n",
      "Thực tế: 0, Dự đoán: 0\n",
      "Thực tế: 1, Dự đoán: 1\n",
      "Thực tế: 2, Dự đoán: 2\n",
      "Thực tế: 1, Dự đoán: 1\n",
      "Thực tế: 1, Dự đoán: 1\n",
      "Thực tế: 2, Dự đoán: 2\n",
      "Thực tế: 0, Dự đoán: 0\n",
      "Thực tế: 2, Dự đoán: 2\n",
      "Thực tế: 0, Dự đoán: 0\n",
      "Thực tế: 2, Dự đoán: 2\n",
      "Thực tế: 2, Dự đoán: 2\n",
      "Thực tế: 2, Dự đoán: 2\n",
      "Thực tế: 2, Dự đoán: 2\n",
      "Thực tế: 2, Dự đoán: 2\n",
      "Thực tế: 0, Dự đoán: 0\n",
      "Thực tế: 0, Dự đoán: 0\n",
      "Thực tế: 0, Dự đoán: 0\n",
      "Thực tế: 0, Dự đoán: 0\n",
      "Thực tế: 1, Dự đoán: 1\n",
      "Thực tế: 0, Dự đoán: 0\n",
      "Thực tế: 0, Dự đoán: 0\n",
      "Thực tế: 2, Dự đoán: 2\n",
      "Thực tế: 1, Dự đoán: 1\n",
      "Thực tế: 0, Dự đoán: 0\n",
      "Thực tế: 0, Dự đoán: 0\n",
      "Thực tế: 0, Dự đoán: 0\n",
      "Thực tế: 2, Dự đoán: 2\n",
      "Thực tế: 1, Dự đoán: 1\n",
      "Thực tế: 1, Dự đoán: 1\n",
      "Thực tế: 0, Dự đoán: 0\n",
      "Thực tế: 0, Dự đoán: 0\n"
     ]
    }
   ],
   "source": [
    "model = neighbors.KNeighborsClassifier(n_neighbors=10,p=2, weights='distance') \n",
    "model.fit(X_train,y_train) \n",
    "y_pred = model.predict(X_test) \n",
    "\n",
    "for true_label, pred_label in zip(y_test, y_pred):\n",
    "    print(f\"Thực tế: {true_label}, Dự đoán: {pred_label}\")"
   ]
  },
  {
   "cell_type": "code",
   "execution_count": 7,
   "metadata": {},
   "outputs": [
    {
     "name": "stdout",
     "output_type": "stream",
     "text": [
      "Accuracy of 10NN (customized weights): 100.00 %\n"
     ]
    }
   ],
   "source": [
    "from sklearn.metrics import accuracy_score \n",
    "\n",
    "print (\"Accuracy of 10NN (customized weights): %.2f %%\" %(100*accuracy_score(y_test, y_pred)))"
   ]
  },
  {
   "cell_type": "markdown",
   "metadata": {},
   "source": [
    "**Ưu điểm của KNN**\n",
    "- Độ phức tạp tính toán của quá trình training là bằng 0.\n",
    "- Việc dự đoán kết quả của dữ liệu mới rất đơn giản.\n",
    "- Không cần giả sử gì về phân phối của các class.\n",
    "\n",
    "**Nhược điểm của KNN**\n",
    "- KNN rất nhạy cảm với nhiễu khi K nhỏ.\n",
    "- Như đã nói, KNN là một thuật toán mà mọi tính toán đều nằm ở khâu test. Trong đó việc tính khoảng cách tới từng điểm dữ liệu trong training set sẽ tốn rất nhiều thời gian, đặc biệt là với các cơ sở dữ liệu có số chiều lớn và có nhiều điểm dữ liệu. Với K càng lớn thì độ phức tạp cũng sẽ tăng lên. Ngoài ra, việc lưu toàn bộ dữ liệu trong bộ nhớ cũng ảnh hưởng tới hiệu năng của KNN."
   ]
  }
 ],
 "metadata": {
  "kernelspec": {
   "display_name": "env",
   "language": "python",
   "name": "python3"
  },
  "language_info": {
   "codemirror_mode": {
    "name": "ipython",
    "version": 3
   },
   "file_extension": ".py",
   "mimetype": "text/x-python",
   "name": "python",
   "nbconvert_exporter": "python",
   "pygments_lexer": "ipython3",
   "version": "3.10.12"
  }
 },
 "nbformat": 4,
 "nbformat_minor": 2
}
